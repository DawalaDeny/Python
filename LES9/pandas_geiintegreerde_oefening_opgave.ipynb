{
 "cells": [
  {
   "cell_type": "markdown",
   "id": "8db8b3d9",
   "metadata": {},
   "source": [
    "# Inleiding\n",
    "In de beschrijving van de theorie vind je een aantal losse oefeningen. We zullen deze oefeningen aanvullen door één geïntegreerde oefening waar de belangrijkste vaardigheden van dit hoofdstuk aan bod komen.\n",
    "We zullen in deze oefening de volgende stappen zetten:\n",
    "* We lezen gegevens uit de sqlite3-database Chinook. Die gegevens komen terecht in een dataframe.\n",
    "* We maken een aantal subframes waarin we data filteren.\n",
    "* We berekenen een aantal statistische gegevens uit ons dataframe.\n",
    "* We schrijven de diverse resultaten weg naar een excelbestand met diverse tabbladen."
   ]
  },
  {
   "cell_type": "markdown",
   "id": "360001ce",
   "metadata": {},
   "source": [
    "# De database\n",
    "We gebruiken in deze oefening de sqlite3-database chinook. Sqlite-bestanden bevatten een relationele database. De specifiek eigenschappen van sqlite zijn:\n",
    "\n",
    "* Het vraagt geen serverinfrastructuur. De database is opgeslagen in één bestand, er moeten geen server opgezet worden of een configuratie gemaakt worden. Daarom vraagt sqlite weinig systeembronnen. Dat maakt het zo geschikt voor gebruik in IoT-devices, maar ook als gegevensopslag voor de lokale verwerking van grote hoeveelheden complexe gegevens.\n",
    "* Sqlite3 is beschikbaar op alle platformen (Windows, Mac, Linux, Android, FreeBSD, ...).\n",
    "* De python-bibliotheek om sqlite-bestanden te lezen is meegeleverd bij de installatie van Python. Je hoeft niets extra te installeren.\n",
    "* Ondanks zijn eenvoudig opzet is sqlite een volwaardige relationele database, met de mogelijkheid voor transacties volgens het ACID-principe (atomic, consistent, isolated, durable).\n",
    "* Sqlite kan terrabytes aan gegevens verwerken. Dat maakt het een uitstekend alternatief voor Excelbestanden of tekstbestanden.\n",
    "\n",
    "De database die we zullen gebruiken is de Chinook-database, een gratis demo die je op het web kunt vinden. Meer informatie over de sqlite-database Chinook vind je onder andere [hier](https://www.sqlitetutorial.net/sqlite-sample-database/). Je kan hem voor diverse DBMS'en ook [hier](https://github.com/lerocha/chinook-database) vinden.\n",
    "\n",
    "Je kan heel gemakkelijk de chinook-database verkennen in het programma [DB Browser for Sqlite](https://sqlitebrowser.org/). Dit is een gebruiksvriendelijke programma voor diverse platformen waarmee je gemakkelijk gegevens uit sqlite-databanken kan raadplegen en wijzigen, via een gebruiksvriendelijke GUI of via SQL. Het is een ideale manier om je SQL-commando uit te testen."
   ]
  },
  {
   "cell_type": "markdown",
   "id": "3cf96236",
   "metadata": {},
   "source": [
    "# De gegevens uit de database halen\n",
    "De eerste stap is de gegevens uit de database halen en in een pandas-dataframe stoppen.\n",
    "Schrijf de Pythoncode om de volgende gegevens uit de database te halen:\n",
    "\n",
    "* Van elke track geef je de factuurlijnen, met de volgende kolommen: naam van de Track, naam van het album waarin die track voorkwam, naam van de artis van dat album, naam van het genre van de track, verkochte hoeveelheid, prijs waartegen de track verkocht werd.\n",
    "* Geef de kolommen de volgende kolomnamen: Name, Artist, Album, Genre, UnitPrice, Quantity.\n",
    "* Je zal hiervoor vier tabellen moeten combineren met een join.\n",
    "* De tracks waarvan geen factuurregel is (die dus ook nooit verkocht werden), moeten ook in de lijst voorkomen. Je zal dus een outer join moeten doen.\n",
    "\n",
    "Sla die gegevens op in de dataframe `tracks`. Je zou 3759 rijen moeten hebben."
   ]
  },
  {
   "cell_type": "markdown",
   "id": "2e262b79",
   "metadata": {},
   "source": [
    "# Gegevens filteren\n",
    "We gaan nu wat oefenen met het filteren van gegevens. Toon achtereenvolgens de volgende gegevens:\n",
    "\n",
    "* Geef de eerste 10 tracks uit de lijst.\n",
    "* Geef de tracks die nooit verkocht werden. Geef de naam van het track en de artist (Aantal is 1519). Sla die op een een dataframe `unsold`.\n",
    "* Geef de tracks van het genre Rock en van het genre Blues (Aantal is 1476).\n",
    "* Geef de tracks van Gilberto Gil die ook van het genre Soundtrack zijn (Aantal is 14).\n",
    "* Geef de tracks van Iron Maiden die niet onder het genre Heavy Metal vallen (Aantal is 202)."
   ]
  },
  {
   "cell_type": "markdown",
   "id": "e8ab7fc7",
   "metadata": {},
   "source": [
    "# Een totaalkolom toevoegen\n",
    "Voeg een extra kolom toe met het verkochte bedrag per factuurregel (bedrag * aantal). Geef die kolom de naam Total.\n",
    "Wijzig de totaalkolommen zonder waarde. Zet daar de waarde op 0."
   ]
  },
  {
   "cell_type": "markdown",
   "id": "4b7d4cce",
   "metadata": {},
   "source": [
    "# Statistische gegevens\n",
    "* Maak een nieuw dataframe met de lijst van de verkochte bedragen per Genre. Geef het de naam verkocht_per_genre.\n",
    "* Maak een nieuw dataframe met de lijst van de verkochte bedragen per artist. Geef het de naam verkocht_per_artist.\n",
    "* Wat is de artist die het meest verkocht heeft?"
   ]
  },
  {
   "cell_type": "markdown",
   "id": "2620d168",
   "metadata": {},
   "source": [
    "# Wegschrijven naar excel\n",
    "Maak een Excelbestand met de volgende tabbladen:\n",
    "\n",
    "* Alle factuurlijnen.\n",
    "* Alle tracks die nooit verkocht werden.\n",
    "* De lijst van de verkochte bedragen per genre.\n",
    "* De lijst van de verkochte bedragen per artist."
   ]
  }
 ],
 "metadata": {
  "kernelspec": {
   "display_name": "Python 3 (ipykernel)",
   "language": "python",
   "name": "python3"
  },
  "language_info": {
   "codemirror_mode": {
    "name": "ipython",
    "version": 3
   },
   "file_extension": ".py",
   "mimetype": "text/x-python",
   "name": "python",
   "nbconvert_exporter": "python",
   "pygments_lexer": "ipython3",
   "version": "3.8.10"
  }
 },
 "nbformat": 4,
 "nbformat_minor": 5
}
